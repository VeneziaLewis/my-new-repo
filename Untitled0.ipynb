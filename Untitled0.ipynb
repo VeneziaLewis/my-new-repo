{
  "nbformat": 4,
  "nbformat_minor": 0,
  "metadata": {
    "colab": {
      "provenance": [],
      "authorship_tag": "ABX9TyNCMgsurdd38xamyq6Cvidp",
      "include_colab_link": true
    },
    "kernelspec": {
      "name": "python3",
      "display_name": "Python 3"
    },
    "language_info": {
      "name": "python"
    }
  },
  "cells": [
    {
      "cell_type": "markdown",
      "metadata": {
        "id": "view-in-github",
        "colab_type": "text"
      },
      "source": [
        "<a href=\"https://colab.research.google.com/github/VeneziaLewis/my-new-repo/blob/main/Untitled0.ipynb\" target=\"_parent\"><img src=\"https://colab.research.google.com/assets/colab-badge.svg\" alt=\"Open In Colab\"/></a>"
      ]
    },
    {
      "cell_type": "markdown",
      "source": [
        "!git clone https://github.com/RiescoR/POCP-VS-AAI"
      ],
      "metadata": {
        "id": "Q_vtzdmw5ATX"
      }
    },
    {
      "cell_type": "code",
      "source": [
        "!git clone https://github.com/RiescoR/POCP-VS-AAI"
      ],
      "metadata": {
        "colab": {
          "base_uri": "https://localhost:8080/"
        },
        "id": "SJbi-w0N5cZK",
        "outputId": "0be3b2b7-14da-4adb-c3ce-4c5e7672527b"
      },
      "execution_count": 1,
      "outputs": [
        {
          "output_type": "stream",
          "name": "stdout",
          "text": [
            "Cloning into 'POCP-VS-AAI'...\n",
            "remote: Enumerating objects: 486, done.\u001b[K\n",
            "remote: Counting objects: 100% (155/155), done.\u001b[K\n",
            "remote: Compressing objects: 100% (155/155), done.\u001b[K\n",
            "remote: Total 486 (delta 17), reused 101 (delta 0), pack-reused 331\u001b[K\n",
            "Receiving objects: 100% (486/486), 4.56 MiB | 18.31 MiB/s, done.\n",
            "Resolving deltas: 100% (25/25), done.\n"
          ]
        }
      ]
    }
  ]
}